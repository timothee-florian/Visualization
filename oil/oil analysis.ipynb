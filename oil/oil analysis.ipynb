{
 "cells": [
  {
   "cell_type": "code",
   "execution_count": 79,
   "metadata": {},
   "outputs": [
    {
     "data": {
      "text/html": [
       "\n",
       "<style>\n",
       "    div#notebook-container    { width: 99%; }\n",
       "    div#menubar-container     { width: 65%; }\n",
       "    div#maintoolbar-container { width: 99%; }\n",
       "</style>\n"
      ],
      "text/plain": [
       "<IPython.core.display.HTML object>"
      ]
     },
     "metadata": {},
     "output_type": "display_data"
    }
   ],
   "source": [
    "from IPython.display import display, HTML\n",
    "\n",
    "display(HTML(data=\"\"\"\n",
    "<style>\n",
    "    div#notebook-container    { width: 99%; }\n",
    "    div#menubar-container     { width: 65%; }\n",
    "    div#maintoolbar-container { width: 99%; }\n",
    "</style>\n",
    "\"\"\"))"
   ]
  },
  {
   "cell_type": "code",
   "execution_count": 1,
   "metadata": {},
   "outputs": [],
   "source": [
    "import findspark\n",
    "\n",
    "findspark.init()"
   ]
  },
  {
   "cell_type": "code",
   "execution_count": 2,
   "metadata": {},
   "outputs": [],
   "source": [
    "import pyspark\n",
    "sc = pyspark.SparkContext('local[*]')"
   ]
  },
  {
   "cell_type": "code",
   "execution_count": 4,
   "metadata": {},
   "outputs": [],
   "source": [
    "from pyspark.sql import*"
   ]
  },
  {
   "cell_type": "code",
   "execution_count": 5,
   "metadata": {},
   "outputs": [],
   "source": [
    "sqlContext = SQLContext(sc)"
   ]
  },
  {
   "cell_type": "code",
   "execution_count": 54,
   "metadata": {},
   "outputs": [],
   "source": [
    "df = sqlContext.read.csv('oil-production-by-country.csv', header=True)"
   ]
  },
  {
   "cell_type": "code",
   "execution_count": 9,
   "metadata": {},
   "outputs": [],
   "source": [
    "sqlContext.read.csv?"
   ]
  },
  {
   "cell_type": "code",
   "execution_count": 7,
   "metadata": {},
   "outputs": [
    {
     "data": {
      "text/plain": [
       "9562"
      ]
     },
     "execution_count": 7,
     "metadata": {},
     "output_type": "execute_result"
    }
   ],
   "source": [
    "df.count()"
   ]
  },
  {
   "cell_type": "code",
   "execution_count": 11,
   "metadata": {},
   "outputs": [
    {
     "name": "stdout",
     "output_type": "stream",
     "text": [
      "+------+----+----+--------------------+\n",
      "|Entity|Code|Year|Oil production (TWh)|\n",
      "+------+----+----+--------------------+\n",
      "|Africa|null|1900|                   0|\n",
      "|Africa|null|1901|                   0|\n",
      "|Africa|null|1902|                   0|\n",
      "|Africa|null|1903|                   0|\n",
      "|Africa|null|1904|                   0|\n",
      "|Africa|null|1905|                   0|\n",
      "|Africa|null|1906|                   0|\n",
      "|Africa|null|1907|                   0|\n",
      "|Africa|null|1908|                   0|\n",
      "|Africa|null|1909|                   0|\n",
      "|Africa|null|1910|                   0|\n",
      "|Africa|null|1911|               0.035|\n",
      "|Africa|null|1912|               0.326|\n",
      "|Africa|null|1913|               0.151|\n",
      "|Africa|null|1914|               1.163|\n",
      "|Africa|null|1915|               0.349|\n",
      "|Africa|null|1916|               0.686|\n",
      "|Africa|null|1917|               1.605|\n",
      "|Africa|null|1918|               3.291|\n",
      "|Africa|null|1919|               2.617|\n",
      "+------+----+----+--------------------+\n",
      "only showing top 20 rows\n",
      "\n"
     ]
    }
   ],
   "source": [
    "df.show()"
   ]
  },
  {
   "cell_type": "code",
   "execution_count": 21,
   "metadata": {},
   "outputs": [
    {
     "ename": "SyntaxError",
     "evalue": "invalid syntax (<ipython-input-21-fbe8285d43e9>, line 1)",
     "output_type": "error",
     "traceback": [
      "\u001b[1;36m  File \u001b[1;32m\"<ipython-input-21-fbe8285d43e9>\"\u001b[1;36m, line \u001b[1;32m1\u001b[0m\n\u001b[1;33m    df[['Entity']].dropDuplicates? #.show()\u001b[0m\n\u001b[1;37m                                 ^\u001b[0m\n\u001b[1;31mSyntaxError\u001b[0m\u001b[1;31m:\u001b[0m invalid syntax\n"
     ]
    }
   ],
   "source": [
    "df[['Entity']].dropDuplicates? #.show()"
   ]
  },
  {
   "cell_type": "code",
   "execution_count": 30,
   "metadata": {},
   "outputs": [
    {
     "data": {
      "text/plain": [
       "['__class__',\n",
       " '__delattr__',\n",
       " '__dict__',\n",
       " '__dir__',\n",
       " '__doc__',\n",
       " '__eq__',\n",
       " '__format__',\n",
       " '__ge__',\n",
       " '__getattr__',\n",
       " '__getattribute__',\n",
       " '__getitem__',\n",
       " '__gt__',\n",
       " '__hash__',\n",
       " '__init__',\n",
       " '__init_subclass__',\n",
       " '__le__',\n",
       " '__lt__',\n",
       " '__module__',\n",
       " '__ne__',\n",
       " '__new__',\n",
       " '__reduce__',\n",
       " '__reduce_ex__',\n",
       " '__repr__',\n",
       " '__setattr__',\n",
       " '__sizeof__',\n",
       " '__str__',\n",
       " '__subclasshook__',\n",
       " '__weakref__',\n",
       " '_collect_as_arrow',\n",
       " '_jcols',\n",
       " '_jdf',\n",
       " '_jmap',\n",
       " '_jseq',\n",
       " '_lazy_rdd',\n",
       " '_repr_html_',\n",
       " '_sc',\n",
       " '_schema',\n",
       " '_sort_cols',\n",
       " '_support_repr_html',\n",
       " '_to_corrected_pandas_type',\n",
       " 'agg',\n",
       " 'alias',\n",
       " 'approxQuantile',\n",
       " 'cache',\n",
       " 'checkpoint',\n",
       " 'coalesce',\n",
       " 'colRegex',\n",
       " 'collect',\n",
       " 'columns',\n",
       " 'corr',\n",
       " 'count',\n",
       " 'cov',\n",
       " 'createGlobalTempView',\n",
       " 'createOrReplaceGlobalTempView',\n",
       " 'createOrReplaceTempView',\n",
       " 'createTempView',\n",
       " 'crossJoin',\n",
       " 'crosstab',\n",
       " 'cube',\n",
       " 'describe',\n",
       " 'distinct',\n",
       " 'drop',\n",
       " 'dropDuplicates',\n",
       " 'drop_duplicates',\n",
       " 'dropna',\n",
       " 'dtypes',\n",
       " 'exceptAll',\n",
       " 'explain',\n",
       " 'fillna',\n",
       " 'filter',\n",
       " 'first',\n",
       " 'foreach',\n",
       " 'foreachPartition',\n",
       " 'freqItems',\n",
       " 'groupBy',\n",
       " 'groupby',\n",
       " 'head',\n",
       " 'hint',\n",
       " 'inputFiles',\n",
       " 'intersect',\n",
       " 'intersectAll',\n",
       " 'isLocal',\n",
       " 'isStreaming',\n",
       " 'is_cached',\n",
       " 'join',\n",
       " 'limit',\n",
       " 'localCheckpoint',\n",
       " 'mapInPandas',\n",
       " 'na',\n",
       " 'orderBy',\n",
       " 'persist',\n",
       " 'printSchema',\n",
       " 'randomSplit',\n",
       " 'rdd',\n",
       " 'registerTempTable',\n",
       " 'repartition',\n",
       " 'repartitionByRange',\n",
       " 'replace',\n",
       " 'rollup',\n",
       " 'sameSemantics',\n",
       " 'sample',\n",
       " 'sampleBy',\n",
       " 'schema',\n",
       " 'select',\n",
       " 'selectExpr',\n",
       " 'semanticHash',\n",
       " 'show',\n",
       " 'sort',\n",
       " 'sortWithinPartitions',\n",
       " 'sql_ctx',\n",
       " 'stat',\n",
       " 'storageLevel',\n",
       " 'subtract',\n",
       " 'summary',\n",
       " 'tail',\n",
       " 'take',\n",
       " 'toDF',\n",
       " 'toJSON',\n",
       " 'toLocalIterator',\n",
       " 'toPandas',\n",
       " 'transform',\n",
       " 'union',\n",
       " 'unionAll',\n",
       " 'unionByName',\n",
       " 'unpersist',\n",
       " 'where',\n",
       " 'withColumn',\n",
       " 'withColumnRenamed',\n",
       " 'withWatermark',\n",
       " 'write',\n",
       " 'writeStream',\n",
       " 'writeTo']"
      ]
     },
     "execution_count": 30,
     "metadata": {},
     "output_type": "execute_result"
    }
   ],
   "source": [
    "dir(df[['Entity']])"
   ]
  },
  {
   "cell_type": "code",
   "execution_count": 36,
   "metadata": {},
   "outputs": [
    {
     "data": {
      "text/plain": [
       "[Row(Entity='Chad'),\n",
       " Row(Entity='Paraguay'),\n",
       " Row(Entity='Russia'),\n",
       " Row(Entity='World'),\n",
       " Row(Entity='Yemen'),\n",
       " Row(Entity='Senegal'),\n",
       " Row(Entity='Sweden'),\n",
       " Row(Entity='Burma'),\n",
       " Row(Entity='Eritrea'),\n",
       " Row(Entity='Malaysia'),\n",
       " Row(Entity='Turkey'),\n",
       " Row(Entity='Iraq'),\n",
       " Row(Entity='Europe'),\n",
       " Row(Entity='Germany'),\n",
       " Row(Entity='Eurasia'),\n",
       " Row(Entity='Cambodia'),\n",
       " Row(Entity='Ivory Coast'),\n",
       " Row(Entity='Jordan'),\n",
       " Row(Entity='Sudan'),\n",
       " Row(Entity='France'),\n",
       " Row(Entity='Greece'),\n",
       " Row(Entity='Kosovo'),\n",
       " Row(Entity='Africa'),\n",
       " Row(Entity='Algeria'),\n",
       " Row(Entity='Equatorial Guinea'),\n",
       " Row(Entity='Togo'),\n",
       " Row(Entity='Argentina'),\n",
       " Row(Entity='Angola'),\n",
       " Row(Entity='Ecuador'),\n",
       " Row(Entity='Qatar'),\n",
       " Row(Entity='Albania'),\n",
       " Row(Entity='Ghana'),\n",
       " Row(Entity='Nicaragua'),\n",
       " Row(Entity='Benin'),\n",
       " Row(Entity='Peru'),\n",
       " Row(Entity='China'),\n",
       " Row(Entity='India'),\n",
       " Row(Entity='United States'),\n",
       " Row(Entity='Kuwait'),\n",
       " Row(Entity='Malta'),\n",
       " Row(Entity='Central and South America'),\n",
       " Row(Entity='Chile'),\n",
       " Row(Entity='Tajikistan'),\n",
       " Row(Entity='Other S. & Cent. America'),\n",
       " Row(Entity='Other CIS'),\n",
       " Row(Entity='Bolivia'),\n",
       " Row(Entity='Nigeria'),\n",
       " Row(Entity='Gabon'),\n",
       " Row(Entity='Italy'),\n",
       " Row(Entity='Suriname'),\n",
       " Row(Entity='Norway'),\n",
       " Row(Entity='South & Central America'),\n",
       " Row(Entity='Turkmenistan'),\n",
       " Row(Entity='Spain'),\n",
       " Row(Entity='Cuba'),\n",
       " Row(Entity='North America'),\n",
       " Row(Entity='Denmark'),\n",
       " Row(Entity='Niger'),\n",
       " Row(Entity='Bangladesh'),\n",
       " Row(Entity='Iran'),\n",
       " Row(Entity='Congo'),\n",
       " Row(Entity='Thailand'),\n",
       " Row(Entity='Morocco'),\n",
       " Row(Entity='Panama'),\n",
       " Row(Entity='Venezuela'),\n",
       " Row(Entity='Israel'),\n",
       " Row(Entity='Oman'),\n",
       " Row(Entity='Gibraltar'),\n",
       " Row(Entity='Other Africa'),\n",
       " Row(Entity='Other Middle East'),\n",
       " Row(Entity='Uruguay'),\n",
       " Row(Entity='Mexico'),\n",
       " Row(Entity='Persian Gulf'),\n",
       " Row(Entity='Georgia'),\n",
       " Row(Entity='Montenegro'),\n",
       " Row(Entity='Zimbabwe'),\n",
       " Row(Entity='Indonesia'),\n",
       " Row(Entity='Guatemala'),\n",
       " Row(Entity='Mongolia'),\n",
       " Row(Entity='Azerbaijan'),\n",
       " Row(Entity='Libya'),\n",
       " Row(Entity='Armenia'),\n",
       " Row(Entity='Tunisia'),\n",
       " Row(Entity='Honduras'),\n",
       " Row(Entity='Syria'),\n",
       " Row(Entity='Middle East'),\n",
       " Row(Entity='Trinidad and Tobago'),\n",
       " Row(Entity='OPEC'),\n",
       " Row(Entity='Saudi Arabia'),\n",
       " Row(Entity='OECD'),\n",
       " Row(Entity='Namibia'),\n",
       " Row(Entity='Zambia'),\n",
       " Row(Entity='Ethiopia'),\n",
       " Row(Entity='Jamaica'),\n",
       " Row(Entity='Brunei'),\n",
       " Row(Entity='Europe (other)'),\n",
       " Row(Entity='South Sudan'),\n",
       " Row(Entity='United Arab Emirates'),\n",
       " Row(Entity='Canada'),\n",
       " Row(Entity='Kyrgyzstan'),\n",
       " Row(Entity='USSR'),\n",
       " Row(Entity='Uzbekistan'),\n",
       " Row(Entity='Mozambique'),\n",
       " Row(Entity='Brazil'),\n",
       " Row(Entity='CIS'),\n",
       " Row(Entity='Kenya'),\n",
       " Row(Entity='Lebanon'),\n",
       " Row(Entity='Dominican Republic'),\n",
       " Row(Entity='Botswana'),\n",
       " Row(Entity='Japan'),\n",
       " Row(Entity='Other Asia & Pacific'),\n",
       " Row(Entity='Asia Pacific'),\n",
       " Row(Entity='Haiti'),\n",
       " Row(Entity='Poland'),\n",
       " Row(Entity='Asia and Oceania'),\n",
       " Row(Entity='Australia'),\n",
       " Row(Entity='Cameroon'),\n",
       " Row(Entity='Romania'),\n",
       " Row(Entity='Bulgaria'),\n",
       " Row(Entity='EU-28'),\n",
       " Row(Entity='Austria'),\n",
       " Row(Entity='Nepal'),\n",
       " Row(Entity='Egypt'),\n",
       " Row(Entity='El Salvador'),\n",
       " Row(Entity='Kazakhstan'),\n",
       " Row(Entity='Serbia'),\n",
       " Row(Entity='Bahrain'),\n",
       " Row(Entity='Colombia'),\n",
       " Row(Entity='Hungary'),\n",
       " Row(Entity='Pakistan'),\n",
       " Row(Entity='Mauritius'),\n",
       " Row(Entity='United Kingdom'),\n",
       " Row(Entity='Vietnam'),\n",
       " Row(Entity='Netherlands')]"
      ]
     },
     "execution_count": 36,
     "metadata": {},
     "output_type": "execute_result"
    }
   ],
   "source": [
    "df[['Entity']].dropDuplicates().collect()"
   ]
  },
  {
   "cell_type": "code",
   "execution_count": 55,
   "metadata": {},
   "outputs": [],
   "source": [
    "df = df.withColumn('Oil production (TWh)', df['Oil production (TWh)'].cast('float'))"
   ]
  },
  {
   "cell_type": "code",
   "execution_count": 80,
   "metadata": {},
   "outputs": [],
   "source": [
    "no_country = ['OECD', 'North America', 'Central and South America', 'South & Central America','Europe', 'Africa', 'Asia and Oceania', 'OPEC', 'Eurasia', 'Persian Gulf', 'Middle East', 'EU-28']"
   ]
  },
  {
   "cell_type": "code",
   "execution_count": 81,
   "metadata": {},
   "outputs": [
    {
     "name": "stdout",
     "output_type": "stream",
     "text": [
      "+-------+----+----+--------------------+\n",
      "| Entity|Code|Year|Oil production (TWh)|\n",
      "+-------+----+----+--------------------+\n",
      "|Albania| ALB|1939|                1.64|\n",
      "|Albania| ALB|1940|               2.628|\n",
      "|Albania| ALB|1941|               2.349|\n",
      "|Albania| ALB|1942|               2.814|\n",
      "|Albania| ALB|1943|               1.756|\n",
      "|Albania| ALB|1944|               0.582|\n",
      "|Albania| ALB|1945|               0.465|\n",
      "|Algeria| DZA|1939|                 0.0|\n",
      "|Algeria| DZA|1940|                 0.0|\n",
      "|Algeria| DZA|1941|                 0.0|\n",
      "|Algeria| DZA|1942|                 0.0|\n",
      "|Algeria| DZA|1943|                 0.0|\n",
      "|Algeria| DZA|1944|               0.012|\n",
      "|Algeria| DZA|1945|                 0.0|\n",
      "| Angola| AGO|1939|                 0.0|\n",
      "| Angola| AGO|1940|                 0.0|\n",
      "| Angola| AGO|1941|                 0.0|\n",
      "| Angola| AGO|1942|                 0.0|\n",
      "| Angola| AGO|1943|                 0.0|\n",
      "| Angola| AGO|1944|                 0.0|\n",
      "+-------+----+----+--------------------+\n",
      "only showing top 20 rows\n",
      "\n"
     ]
    }
   ],
   "source": [
    "df_filter = df.where((~df.Entity.isin(no_country)) & (df.Year >= 1939) & (df.Year <= 1945))\n",
    "df_filter.where(~df.Entity.like(\"% and %\")).show()"
   ]
  },
  {
   "cell_type": "code",
   "execution_count": 82,
   "metadata": {
    "scrolled": true
   },
   "outputs": [
    {
     "data": {
      "text/plain": [
       "427"
      ]
     },
     "execution_count": 82,
     "metadata": {},
     "output_type": "execute_result"
    }
   ],
   "source": [
    "df_filter.count()"
   ]
  },
  {
   "cell_type": "code",
   "execution_count": 83,
   "metadata": {},
   "outputs": [],
   "source": [
    "df_agg = df_filter.groupBy('Entity').sum('Oil production (TWh)').withColumnRenamed(\"sum(Oil production (TWh))\", \"Total_production\")"
   ]
  },
  {
   "cell_type": "code",
   "execution_count": null,
   "metadata": {},
   "outputs": [],
   "source": []
  },
  {
   "cell_type": "code",
   "execution_count": 84,
   "metadata": {},
   "outputs": [
    {
     "name": "stdout",
     "output_type": "stream",
     "text": [
      "+-----------+--------------------+\n",
      "|     Entity|    Total_production|\n",
      "+-----------+--------------------+\n",
      "|     Russia|  2423.4139862060547|\n",
      "|     Sweden|                 0.0|\n",
      "|      Burma|   44.07599949836731|\n",
      "|   Malaysia|   4.966000080108643|\n",
      "|     Turkey|                 0.0|\n",
      "|       Iraq|    267.197998046875|\n",
      "|    Germany|   63.01100015640259|\n",
      "|Ivory Coast|                 0.0|\n",
      "|     France|  4.8610000014305115|\n",
      "|     Greece|                 0.0|\n",
      "|    Algeria|0.012000000104308128|\n",
      "|  Argentina|  261.05899810791016|\n",
      "|     Angola|                 0.0|\n",
      "|    Ecuador|  25.038999795913696|\n",
      "|      Qatar|                 0.0|\n",
      "|    Albania|   12.23399993777275|\n",
      "|      Ghana|                 0.0|\n",
      "|       Peru|  145.19999885559082|\n",
      "|      China|  36.473000049591064|\n",
      "|      India|   29.00499987602234|\n",
      "+-----------+--------------------+\n",
      "only showing top 20 rows\n",
      "\n"
     ]
    }
   ],
   "source": [
    "df_agg.show()"
   ]
  },
  {
   "cell_type": "code",
   "execution_count": 85,
   "metadata": {},
   "outputs": [],
   "source": [
    "df_agg.orderBy?"
   ]
  },
  {
   "cell_type": "code",
   "execution_count": 87,
   "metadata": {},
   "outputs": [
    {
     "name": "stdout",
     "output_type": "stream",
     "text": [
      "+-------------+------------------+\n",
      "|       Entity|  Total_production|\n",
      "+-------------+------------------+\n",
      "|United States|16194.159912109375|\n",
      "|       Russia|2423.4139862060547|\n",
      "|       Mexico| 468.8070068359375|\n",
      "|      Romania|425.72700119018555|\n",
      "|    Indonesia|417.44799613952637|\n",
      "|         Iraq|  267.197998046875|\n",
      "|    Argentina|261.05899810791016|\n",
      "|     Colombia|230.86699867248535|\n",
      "|         Peru|145.19999885559082|\n",
      "|       Canada| 99.14700126647949|\n",
      "|        Egypt| 92.87799882888794|\n",
      "|      Bahrain| 76.79099941253662|\n",
      "|      Germany| 63.01100015640259|\n",
      "|      Austria| 56.31300091743469|\n",
      "|       Brunei|51.171000242233276|\n",
      "|      Hungary| 44.34699988365173|\n",
      "|        Burma| 44.07599949836731|\n",
      "|        China|36.473000049591064|\n",
      "|       Poland| 30.76199960708618|\n",
      "|        India| 29.00499987602234|\n",
      "+-------------+------------------+\n",
      "only showing top 20 rows\n",
      "\n"
     ]
    }
   ],
   "source": [
    "df_agg.orderBy(col('Total_production').desc()).show()"
   ]
  },
  {
   "cell_type": "code",
   "execution_count": 74,
   "metadata": {},
   "outputs": [],
   "source": [
    "from pyspark.sql.functions import col, asc,desc"
   ]
  },
  {
   "cell_type": "code",
   "execution_count": null,
   "metadata": {},
   "outputs": [],
   "source": []
  },
  {
   "cell_type": "code",
   "execution_count": 76,
   "metadata": {},
   "outputs": [
    {
     "name": "stdout",
     "output_type": "stream",
     "text": [
      "+--------------------+------------------+\n",
      "|              Entity|  Total_production|\n",
      "+--------------------+------------------+\n",
      "|                OECD|16988.036865234375|\n",
      "|       North America|16762.111083984375|\n",
      "|       United States|16194.159912109375|\n",
      "|                OPEC| 3832.414031982422|\n",
      "|Central and South...| 3500.480987548828|\n",
      "|             Eurasia|2423.4139862060547|\n",
      "|              Russia|2423.4139862060547|\n",
      "|        Persian Gulf| 1300.281997680664|\n",
      "|         Middle East| 1300.281997680664|\n",
      "|              Europe| 645.8499984741211|\n",
      "|               EU-28| 630.6259918212891|\n",
      "|    Asia and Oceania|  604.481990814209|\n",
      "|              Mexico| 468.8070068359375|\n",
      "|             Romania|425.72700119018555|\n",
      "|           Indonesia|417.44799613952637|\n",
      "|                Iraq|  267.197998046875|\n",
      "|           Argentina|261.05899810791016|\n",
      "|            Colombia|230.86699867248535|\n",
      "|                Peru|145.19999885559082|\n",
      "|              Canada| 99.14700126647949|\n",
      "+--------------------+------------------+\n",
      "only showing top 20 rows\n",
      "\n"
     ]
    }
   ],
   "source": [
    "df_agg.orderBy(col('Total_production').desc()).show()"
   ]
  },
  {
   "cell_type": "code",
   "execution_count": 67,
   "metadata": {},
   "outputs": [
    {
     "ename": "TypeError",
     "evalue": "unsupported operand type(s) for +: 'int' and 'str'",
     "output_type": "error",
     "traceback": [
      "\u001b[1;31m---------------------------------------------------------------------------\u001b[0m",
      "\u001b[1;31mTypeError\u001b[0m                                 Traceback (most recent call last)",
      "\u001b[1;32m<ipython-input-67-cde8a180b4d9>\u001b[0m in \u001b[0;36m<module>\u001b[1;34m\u001b[0m\n\u001b[1;32m----> 1\u001b[1;33m \u001b[0mdf_filter\u001b[0m\u001b[1;33m.\u001b[0m\u001b[0mgroupBy\u001b[0m\u001b[1;33m(\u001b[0m\u001b[1;34m'Entity'\u001b[0m\u001b[1;33m)\u001b[0m\u001b[1;33m.\u001b[0m\u001b[0magg\u001b[0m\u001b[1;33m(\u001b[0m\u001b[0msum\u001b[0m\u001b[1;33m(\u001b[0m\u001b[1;34m'Oil production (TWh)'\u001b[0m\u001b[1;33m)\u001b[0m\u001b[1;33m)\u001b[0m\u001b[1;33m.\u001b[0m\u001b[0mshow\u001b[0m\u001b[1;33m(\u001b[0m\u001b[1;33m)\u001b[0m\u001b[1;33m\u001b[0m\u001b[1;33m\u001b[0m\u001b[0m\n\u001b[0m",
      "\u001b[1;31mTypeError\u001b[0m: unsupported operand type(s) for +: 'int' and 'str'"
     ]
    }
   ],
   "source": [
    "df_filter.groupBy('Entity').agg(sum('Oil production (TWh)')).show()"
   ]
  },
  {
   "cell_type": "code",
   "execution_count": 35,
   "metadata": {},
   "outputs": [
    {
     "name": "stdout",
     "output_type": "stream",
     "text": [
      "+-------------+----+----+--------------------+\n",
      "|       Entity|Code|Year|Oil production (TWh)|\n",
      "+-------------+----+----+--------------------+\n",
      "|United States| USA|1900|              98.646|\n",
      "+-------------+----+----+--------------------+\n",
      "\n"
     ]
    }
   ],
   "source": [
    "df.dropDuplicates(['Entity']).where(df.Entity == 'United States').show()"
   ]
  },
  {
   "cell_type": "code",
   "execution_count": 31,
   "metadata": {},
   "outputs": [
    {
     "data": {
      "text/html": [
       "<div>\n",
       "<style scoped>\n",
       "    .dataframe tbody tr th:only-of-type {\n",
       "        vertical-align: middle;\n",
       "    }\n",
       "\n",
       "    .dataframe tbody tr th {\n",
       "        vertical-align: top;\n",
       "    }\n",
       "\n",
       "    .dataframe thead th {\n",
       "        text-align: right;\n",
       "    }\n",
       "</style>\n",
       "<table border=\"1\" class=\"dataframe\">\n",
       "  <thead>\n",
       "    <tr style=\"text-align: right;\">\n",
       "      <th></th>\n",
       "      <th>Entity</th>\n",
       "    </tr>\n",
       "  </thead>\n",
       "  <tbody>\n",
       "    <tr>\n",
       "      <th>0</th>\n",
       "      <td>Africa</td>\n",
       "    </tr>\n",
       "    <tr>\n",
       "      <th>1</th>\n",
       "      <td>Africa</td>\n",
       "    </tr>\n",
       "    <tr>\n",
       "      <th>2</th>\n",
       "      <td>Africa</td>\n",
       "    </tr>\n",
       "    <tr>\n",
       "      <th>3</th>\n",
       "      <td>Africa</td>\n",
       "    </tr>\n",
       "    <tr>\n",
       "      <th>4</th>\n",
       "      <td>Africa</td>\n",
       "    </tr>\n",
       "    <tr>\n",
       "      <th>...</th>\n",
       "      <td>...</td>\n",
       "    </tr>\n",
       "    <tr>\n",
       "      <th>9556</th>\n",
       "      <td>Zambia</td>\n",
       "    </tr>\n",
       "    <tr>\n",
       "      <th>9557</th>\n",
       "      <td>Zambia</td>\n",
       "    </tr>\n",
       "    <tr>\n",
       "      <th>9558</th>\n",
       "      <td>Zambia</td>\n",
       "    </tr>\n",
       "    <tr>\n",
       "      <th>9559</th>\n",
       "      <td>Zambia</td>\n",
       "    </tr>\n",
       "    <tr>\n",
       "      <th>9560</th>\n",
       "      <td>Zimbabwe</td>\n",
       "    </tr>\n",
       "  </tbody>\n",
       "</table>\n",
       "<p>9561 rows × 1 columns</p>\n",
       "</div>"
      ],
      "text/plain": [
       "        Entity\n",
       "0       Africa\n",
       "1       Africa\n",
       "2       Africa\n",
       "3       Africa\n",
       "4       Africa\n",
       "...        ...\n",
       "9556    Zambia\n",
       "9557    Zambia\n",
       "9558    Zambia\n",
       "9559    Zambia\n",
       "9560  Zimbabwe\n",
       "\n",
       "[9561 rows x 1 columns]"
      ]
     },
     "execution_count": 31,
     "metadata": {},
     "output_type": "execute_result"
    }
   ],
   "source": [
    "df[['Entity']].toPandas()"
   ]
  },
  {
   "cell_type": "code",
   "execution_count": null,
   "metadata": {},
   "outputs": [],
   "source": []
  }
 ],
 "metadata": {
  "kernelspec": {
   "display_name": "Python 3",
   "language": "python",
   "name": "python3"
  },
  "language_info": {
   "codemirror_mode": {
    "name": "ipython",
    "version": 3
   },
   "file_extension": ".py",
   "mimetype": "text/x-python",
   "name": "python",
   "nbconvert_exporter": "python",
   "pygments_lexer": "ipython3",
   "version": "3.7.3"
  }
 },
 "nbformat": 4,
 "nbformat_minor": 4
}
