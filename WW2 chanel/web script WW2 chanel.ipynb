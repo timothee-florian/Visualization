{
 "cells": [
  {
   "cell_type": "code",
   "execution_count": 1,
   "metadata": {},
   "outputs": [],
   "source": [
    "import os\n",
    "import re\n",
    "from selenium import webdriver\n",
    "from selenium.webdriver.common.keys import Keys\n",
    "from selenium.webdriver.common.action_chains import ActionChains\n",
    "import time\n",
    "import sys\n",
    "import pyperclip as pc\n",
    "import pandas as pd\n",
    "import json\n",
    "\"\"\"\n",
    "Read a text file that contains the web site to connect and the instructions to login.\n",
    "Typicaly buton click text to fill... \n",
    "\"\"\"\n",
    "def click_buton(xpath):\n",
    "    button = driver.find_element_by_xpath(xpath)\n",
    "    button.click()\n",
    "\n",
    "def fill_text(xpath, text):\n",
    "    text_box = driver.find_element_by_xpath(xpath)\n",
    "    text_box.send_keys(text)"
   ]
  },
  {
   "cell_type": "code",
   "execution_count": 2,
   "metadata": {},
   "outputs": [],
   "source": [
    "driver = webdriver.Chrome()"
   ]
  },
  {
   "cell_type": "code",
   "execution_count": 3,
   "metadata": {},
   "outputs": [],
   "source": [
    "driver.get('https://www.youtube.com/')"
   ]
  },
  {
   "cell_type": "code",
   "execution_count": 4,
   "metadata": {},
   "outputs": [],
   "source": [
    "accept_button_xpath = '/html/body/ytd-app/ytd-consent-bump-v2-lightbox/tp-yt-paper-dialog/div[4]/div[2]/div[5]/div[2]/ytd-button-renderer[2]/a/tp-yt-paper-button'\n",
    "click_buton(xpath = accept_button_xpath)"
   ]
  },
  {
   "cell_type": "code",
   "execution_count": 5,
   "metadata": {},
   "outputs": [],
   "source": [
    "playlists = ['YEAR 1 - WW2 - 1939/40', 'YEAR 2 - WW2 - 1940/41', 'YEAR 3 - WW2 - 1941/42', 'YEAR 4 - WW2 - 1942/43']"
   ]
  },
  {
   "cell_type": "code",
   "execution_count": 6,
   "metadata": {},
   "outputs": [],
   "source": [
    "search_path = '/html/body/ytd-app/div/div/ytd-masthead/div[3]/div[2]/ytd-searchbox/form/div[1]/div[1]/input'\n",
    "fill_text(search_path, text = playlists[0])"
   ]
  },
  {
   "cell_type": "code",
   "execution_count": 7,
   "metadata": {},
   "outputs": [],
   "source": [
    "search_button= '/html/body/ytd-app/div/div/ytd-masthead/div[3]/div[2]/ytd-searchbox/button'\n",
    "click_buton(xpath = search_button)"
   ]
  },
  {
   "cell_type": "code",
   "execution_count": 8,
   "metadata": {},
   "outputs": [],
   "source": [
    "probable_but = '/html/body/ytd-app/div/ytd-page-manager/ytd-search/div[1]/ytd-two-column-search-results-renderer/div/ytd-section-list-renderer/div[2]/ytd-item-section-renderer/div[3]/ytd-playlist-renderer/div/yt-formatted-string[2]/a'\n",
    "click_buton(xpath = probable_but)"
   ]
  },
  {
   "cell_type": "code",
   "execution_count": 62,
   "metadata": {},
   "outputs": [],
   "source": [
    "pathx = '/html/body/ytd-app/div/ytd-page-manager/ytd-browse[2]/ytd-two-column-browse-results-renderer/div[1]/ytd-section-list-renderer/div[2]/ytd-item-section-renderer'\n",
    "elem = driver.find_element_by_xpath(pathx)"
   ]
  },
  {
   "cell_type": "code",
   "execution_count": 25,
   "metadata": {},
   "outputs": [],
   "source": [
    "for i in range(1,100):\n",
    "    driver.execute_script(f\"window.scrollTo(0, {i}00)\")\n",
    "    time.sleep(0.1)\n",
    "# pathx = '/html/body/ytd-app/div/ytd-page-manager/ytd-browse[2]/ytd-two-column-browse-results-renderer/div[1]/ytd-section-list-renderer/div[2]/ytd-item-section-renderer'\n",
    "# elem = driver.find_element_by_xpath(pathx)"
   ]
  },
  {
   "cell_type": "code",
   "execution_count": 18,
   "metadata": {},
   "outputs": [],
   "source": [
    "driver.execute_script(\"window.scrollTo(0, 2000)\")"
   ]
  },
  {
   "cell_type": "code",
   "execution_count": 86,
   "metadata": {},
   "outputs": [],
   "source": [
    "data = []\n",
    "for playlist in playlists:\n",
    "    search_path = '/html/body/ytd-app/div/div/ytd-masthead/div[3]/div[2]/ytd-searchbox/form/div[1]/div[1]/input'\n",
    "    fill_text(search_path, text = playlist)\n",
    "    search_button= '/html/body/ytd-app/div/div/ytd-masthead/div[3]/div[2]/ytd-searchbox/button'\n",
    "    click_buton(xpath = search_button)\n",
    "    probable_but = '/html/body/ytd-app/div/ytd-page-manager/ytd-search/div[1]/ytd-two-column-search-results-renderer/div/ytd-section-list-renderer/div[2]/ytd-item-section-renderer/div[3]/ytd-playlist-renderer/div/yt-formatted-string[2]/a'\n",
    "    time.sleep(2)\n",
    "    click_buton(xpath = probable_but)\n",
    "    pathx = '/html/body/ytd-app/div/ytd-page-manager/ytd-browse[2]/ytd-two-column-browse-results-renderer/div[1]/ytd-section-list-renderer/div[2]/ytd-item-section-renderer'\n",
    "    time.sleep(2)\n",
    "    for i in range(1,100):\n",
    "        driver.execute_script(f\"window.scrollTo(0, {i}00)\")\n",
    "        time.sleep(0.1)\n",
    "    try:\n",
    "        reset_buton = '/html/body/ytd-app/div/div/ytd-masthead/div[3]/div[2]/ytd-searchbox/form/div[1]/div[2]/ytd-button-renderer/a/yt-icon-button/button/yt-icon'\n",
    "        click_buton(xpath = reset_buton)\n",
    "    except:\n",
    "        pass\n",
    "    time.sleep(2)\n",
    "    pathx = '/html/body/ytd-app/div/ytd-page-manager/ytd-browse[2]/ytd-two-column-browse-results-renderer/div[1]/ytd-section-list-renderer/div[2]/ytd-item-section-renderer'\n",
    "    elem = driver.find_element_by_xpath(pathx)\n",
    "    titles = elem.text.split('\\nWorld War Two\\n')\n",
    "    for title in titles:\n",
    "        try:\n",
    "            month = title.split('-')[-1].split()[0]\n",
    "            day = title.split('-')[-1].split()[1].replace(',', '')\n",
    "            year = title.split('-')[-1].split()[2].replace(',', '')\n",
    "        except:\n",
    "            month = title.split('-')[-1].split()[0]\n",
    "            day = ''\n",
    "            year = title.split('-')[-1].split()[1].replace(',', '')\n",
    "        if len(day)> 2:\n",
    "            temp_day = day\n",
    "            day = month \n",
    "            month = temp_day\n",
    "        title_name = ' -'.join(title.split('\\n')[2].split(' -')[:-1])\n",
    "        duration = title.split('\\n')[1]\n",
    "        minutes = int(duration.split(':')[-2])\n",
    "        secondes = int(duration.split(':')[-1])\n",
    "        secondes += 60 * minutes\n",
    "        data += [(day, month, year, title_name, secondes)]"
   ]
  },
  {
   "cell_type": "code",
   "execution_count": 43,
   "metadata": {},
   "outputs": [],
   "source": [
    "import pandas as pd"
   ]
  },
  {
   "cell_type": "code",
   "execution_count": 87,
   "metadata": {},
   "outputs": [],
   "source": [
    "df = pd.DataFrame(data, columns=['Day', 'Month', 'Year', 'Title', 'Duration [s]'])"
   ]
  },
  {
   "cell_type": "code",
   "execution_count": 88,
   "metadata": {},
   "outputs": [
    {
     "data": {
      "text/html": [
       "<div>\n",
       "<style scoped>\n",
       "    .dataframe tbody tr th:only-of-type {\n",
       "        vertical-align: middle;\n",
       "    }\n",
       "\n",
       "    .dataframe tbody tr th {\n",
       "        vertical-align: top;\n",
       "    }\n",
       "\n",
       "    .dataframe thead th {\n",
       "        text-align: right;\n",
       "    }\n",
       "</style>\n",
       "<table border=\"1\" class=\"dataframe\">\n",
       "  <thead>\n",
       "    <tr style=\"text-align: right;\">\n",
       "      <th></th>\n",
       "      <th>Day</th>\n",
       "      <th>Month</th>\n",
       "      <th>Year</th>\n",
       "      <th>Title</th>\n",
       "      <th>Duration [s]</th>\n",
       "    </tr>\n",
       "  </thead>\n",
       "  <tbody>\n",
       "    <tr>\n",
       "      <th>0</th>\n",
       "      <td>1</td>\n",
       "      <td>September</td>\n",
       "      <td>1939</td>\n",
       "      <td>001 -The Polish-German War - WW2</td>\n",
       "      <td>697</td>\n",
       "    </tr>\n",
       "    <tr>\n",
       "      <th>1</th>\n",
       "      <td>8</td>\n",
       "      <td>September</td>\n",
       "      <td>1939</td>\n",
       "      <td>002 - World War Two Begins - WW2</td>\n",
       "      <td>697</td>\n",
       "    </tr>\n",
       "    <tr>\n",
       "      <th>2</th>\n",
       "      <td>15</td>\n",
       "      <td>September</td>\n",
       "      <td>1939</td>\n",
       "      <td>003 - Poland on Her Own - WW2</td>\n",
       "      <td>687</td>\n",
       "    </tr>\n",
       "    <tr>\n",
       "      <th>3</th>\n",
       "      <td>22</td>\n",
       "      <td>September</td>\n",
       "      <td>1939</td>\n",
       "      <td>004 - The Russians are Coming! - The Soviet In...</td>\n",
       "      <td>729</td>\n",
       "    </tr>\n",
       "    <tr>\n",
       "      <th>4</th>\n",
       "      <td>29</td>\n",
       "      <td>September</td>\n",
       "      <td>1939</td>\n",
       "      <td>005 - Poland is Crushed - WW2</td>\n",
       "      <td>648</td>\n",
       "    </tr>\n",
       "    <tr>\n",
       "      <th>...</th>\n",
       "      <td>...</td>\n",
       "      <td>...</td>\n",
       "      <td>...</td>\n",
       "      <td>...</td>\n",
       "      <td>...</td>\n",
       "    </tr>\n",
       "    <tr>\n",
       "      <th>217</th>\n",
       "      <td>13</td>\n",
       "      <td>November</td>\n",
       "      <td>1942</td>\n",
       "      <td>168 - Axis and Allies Both Invade France - WW2</td>\n",
       "      <td>1329</td>\n",
       "    </tr>\n",
       "    <tr>\n",
       "      <th>218</th>\n",
       "      <td>November</td>\n",
       "      <td>1942</td>\n",
       "      <td>Pt.</td>\n",
       "      <td>Fighting Nazis with Radios and Funerals - WAH 046</td>\n",
       "      <td>905</td>\n",
       "    </tr>\n",
       "    <tr>\n",
       "      <th>219</th>\n",
       "      <td>November</td>\n",
       "      <td>20th</td>\n",
       "      <td>1942</td>\n",
       "      <td>169 - The Red Army Kicks Ass - Operation Uranu...</td>\n",
       "      <td>1165</td>\n",
       "    </tr>\n",
       "    <tr>\n",
       "      <th>220</th>\n",
       "      <td>27</td>\n",
       "      <td>November</td>\n",
       "      <td>1942</td>\n",
       "      <td>170 - Bigger Than Uranus? - Mars - WW2</td>\n",
       "      <td>1244</td>\n",
       "    </tr>\n",
       "    <tr>\n",
       "      <th>221</th>\n",
       "      <td>November</td>\n",
       "      <td>1942</td>\n",
       "      <td>Pt.</td>\n",
       "      <td>The Germans Learn to Love Their Slaves - WAH 047</td>\n",
       "      <td>1003</td>\n",
       "    </tr>\n",
       "  </tbody>\n",
       "</table>\n",
       "<p>222 rows × 5 columns</p>\n",
       "</div>"
      ],
      "text/plain": [
       "          Day      Month  Year  \\\n",
       "0           1  September  1939   \n",
       "1           8  September  1939   \n",
       "2          15  September  1939   \n",
       "3          22  September  1939   \n",
       "4          29  September  1939   \n",
       "..        ...        ...   ...   \n",
       "217        13   November  1942   \n",
       "218  November       1942   Pt.   \n",
       "219  November       20th  1942   \n",
       "220        27   November  1942   \n",
       "221  November       1942   Pt.   \n",
       "\n",
       "                                                 Title  Duration [s]  \n",
       "0                     001 -The Polish-German War - WW2           697  \n",
       "1                     002 - World War Two Begins - WW2           697  \n",
       "2                        003 - Poland on Her Own - WW2           687  \n",
       "3    004 - The Russians are Coming! - The Soviet In...           729  \n",
       "4                        005 - Poland is Crushed - WW2           648  \n",
       "..                                                 ...           ...  \n",
       "217     168 - Axis and Allies Both Invade France - WW2          1329  \n",
       "218  Fighting Nazis with Radios and Funerals - WAH 046           905  \n",
       "219  169 - The Red Army Kicks Ass - Operation Uranu...          1165  \n",
       "220             170 - Bigger Than Uranus? - Mars - WW2          1244  \n",
       "221   The Germans Learn to Love Their Slaves - WAH 047          1003  \n",
       "\n",
       "[222 rows x 5 columns]"
      ]
     },
     "execution_count": 88,
     "metadata": {},
     "output_type": "execute_result"
    }
   ],
   "source": [
    "df"
   ]
  },
  {
   "cell_type": "code",
   "execution_count": 89,
   "metadata": {},
   "outputs": [],
   "source": [
    "df.to_csv('duration_videos.csv', index=False)"
   ]
  },
  {
   "cell_type": "code",
   "execution_count": 58,
   "metadata": {},
   "outputs": [],
   "source": [
    "import matplotlib.pyplot as plt"
   ]
  },
  {
   "cell_type": "code",
   "execution_count": 76,
   "metadata": {},
   "outputs": [
    {
     "data": {
      "text/plain": [
       "[<matplotlib.lines.Line2D at 0x1a9265c50f0>]"
      ]
     },
     "execution_count": 76,
     "metadata": {},
     "output_type": "execute_result"
    },
    {
     "data": {
      "image/png": "[encoded data removed]",
      "text/plain": [
       "<Figure size 432x288 with 1 Axes>"
      ]
     },
     "metadata": {
      "needs_background": "light"
     },
     "output_type": "display_data"
    }
   ],
   "source": [
    "plt.plot(df['Duration [s]'])"
   ]
  },
  {
   "cell_type": "code",
   "execution_count": null,
   "metadata": {},
   "outputs": [],
   "source": []
  },
  {
   "cell_type": "code",
   "execution_count": null,
   "metadata": {},
   "outputs": [],
   "source": []
  },
  {
   "cell_type": "code",
   "execution_count": 63,
   "metadata": {},
   "outputs": [
    {
     "data": {
      "text/plain": [
       "['1\\n17:47\\n158 - This War is Three Years Old - WW2 - September 4, 1942',\n",
       " '2\\n15:27\\n159 - Hitler Finally Fed Up with his Army - WW2 - September 11, 1942',\n",
       " \"3\\n13:34\\n159B - Stalingrad, Hitler's Obsession - WW2 - September 13, 1942\",\n",
       " '4\\n20:00\\n160 - Stalingrad Falls? - WW2 - September 18, 1942',\n",
       " '5\\n16:39\\n161 - Stalingrad, Factory by Factory, Room by Room - WW2 - September 25, 1942',\n",
       " '6\\n16:31\\nHow Britain Oppressed India - WAH 043 - September 1942, Pt. 2',\n",
       " '7\\n19:03\\n162 - This is Russia, The Soviet Thermopylae - WW2 - October 2, 1942',\n",
       " '8\\n17:41\\n163 - Stalingrad Thunderdome: Paulus vs. Chuikov! - WW2 - October 9, 1942',\n",
       " '9\\n16:40\\nResist. Collaborate. Die. - WAH 044 - October 1942, Pt. 1',\n",
       " '10\\n20:13\\n164 - Stalingrad, Stalingrad, Stalingrad, No Retreat! - WW2 - October 16, 1942',\n",
       " '11\\n18:16\\n165 - Showdown at El Alamein - WW2 - October 23, 1942',\n",
       " '12\\n20:29\\n166 - Nazi General Dies of Heart Attack - WW2 - October 30, 1942',\n",
       " '13\\n17:25\\nA United Front Against Nazi Atrocities - WAH 045 - October 1942, Pt. 2',\n",
       " '14\\n18:24\\n167 - The Allies Break Through! - WW2 - November 6, 1942',\n",
       " '15\\n22:09\\n168 - Axis and Allies Both Invade France - WW2 - November 13, 1942',\n",
       " '16\\n15:05\\nFighting Nazis with Radios and Funerals - WAH 046 - November 1942, Pt. 1',\n",
       " '17\\n19:25\\n169 - The Red Army Kicks Ass - Operation Uranus! - WW2 - November 20th, 1942',\n",
       " '18\\n20:44\\n170 - Bigger Than Uranus? - Mars - WW2 - November 27 1942',\n",
       " '19\\n16:43\\nThe Germans Learn to Love Their Slaves - WAH 047 - November 1942, Pt. 2\\nWorld War Two']"
      ]
     },
     "execution_count": 63,
     "metadata": {},
     "output_type": "execute_result"
    }
   ],
   "source": [
    "# list(map(lambda: \n",
    "# duration = list(map(lambda x: x.split('\\n'), elem.text.split('\\nWorld War Two\\n'))\n",
    "titles = list(map(lambda x: x.split('\\n')[-1] ,elem.text.split('\\nWorld War Two\\n')))  \n",
    "titles = elem.text.split('\\nWorld War Two\\n')\n",
    "title = titles[0]\n",
    "titles"
   ]
  },
  {
   "cell_type": "code",
   "execution_count": 39,
   "metadata": {},
   "outputs": [],
   "source": [
    "data = []\n",
    "for title in titles:\n",
    "    try:\n",
    "        month = title.split('-')[-1].split()[0]\n",
    "        day = title.split('-')[-1].split()[1].replace(',', '')\n",
    "        year = title.split('-')[-1].split()[2].replace(',', '')\n",
    "    except:\n",
    "        month = title.split('-')[-1].split()[0]\n",
    "        day = ''\n",
    "        year = title.split('-')[-1].split()[1].replace(',', '')\n",
    "    title_name = title.split(' -')[1]\n",
    "    duration = title.split('\\n')[1]\n",
    "    minutes = int(duration.split(':')[-2])\n",
    "    secondes = int(duration.split(':')[-1])\n",
    "    secondes += 60 * minutes\n",
    "    data += [(day, month, year, title_name, secondes)]"
   ]
  },
  {
   "cell_type": "code",
   "execution_count": 37,
   "metadata": {},
   "outputs": [
    {
     "data": {
      "text/plain": [
       "['April', '1940']"
      ]
     },
     "execution_count": 37,
     "metadata": {},
     "output_type": "execute_result"
    }
   ],
   "source": [
    "title.split('-')[-1].split()"
   ]
  },
  {
   "cell_type": "code",
   "execution_count": 40,
   "metadata": {},
   "outputs": [
    {
     "data": {
      "text/plain": [
       "[('1', 'September', '1939', 'The Polish-German War', 697),\n",
       " ('8', 'September', '1939', ' World War Two Begins', 697),\n",
       " ('15', 'September', '1939', ' Poland on Her Own', 687),\n",
       " ('22', 'September', '1939', ' The Russians are Coming!', 729),\n",
       " ('September', '29', '1939', ' Poland is Crushed', 648),\n",
       " ('6', 'October', '1939', ' Poland Falls and China Rises', 662),\n",
       " ('October', '13', '1939', \" The Baltic in Stalin's Squeeze\", 627),\n",
       " ('20', 'October', '1939', ' The Submarine War', 664),\n",
       " ('27', 'October', '1939', \" Stalin's Murderous Adventures\", 682),\n",
       " ('November',\n",
       "  '3',\n",
       "  '1939',\n",
       "  \" Molotov's Heel on Finland and the Phoney War\",\n",
       "  610),\n",
       " ('November', '10', '1939', ' Hitler Almost Killed', 625),\n",
       " ('November', '17', '1939', ' The Mysterious Threat to the Royal Navy', 636),\n",
       " ('November', '24', '1939', ' Will the Kriegsmarine Rule the Waves?', 591),\n",
       " ('1', 'December', '1939', ' The Winter War', 628),\n",
       " ('December', '8', '1939', ' The Invasion of Finland', 678),\n",
       " ('December', '15', '1939', ' Perkele! Finland Strikes Back', 679),\n",
       " ('December', '22', '1939', ' Trouble in China', 689),\n",
       " ('December', '29', '1939', ' Stalin’s Unexpected Bedfellows', 742),\n",
       " ('5',\n",
       "  'January',\n",
       "  '1940',\n",
       "  ' The Finns Strike Again and Japan Strikes Back',\n",
       "  647),\n",
       " ('12', 'January', '1940', ' The Red Army Regroups to Crush Finland', 662),\n",
       " ('19', 'January', '1940', \" Swedes not Sweden to Finland's Rescue\", 745),\n",
       " ('26', 'January', '1940', \" The Enigma of Germany's Wartime Economy\", 723),\n",
       " ('2', 'February', '1940', ' The Soviet Hammer Strikes Hard at Finland', 676),\n",
       " ('9', 'February', '1940', ' Stalemate in China, Bombs over Finland', 696),\n",
       " ('16', 'February', '1940', ' Finland’s Desperate Fight', 684),\n",
       " ('23',\n",
       "  'February',\n",
       "  '1940',\n",
       "  ' Manstein Makes a Plan and Hitler has a Man Crush',\n",
       "  591),\n",
       " ('2', 'March', '1940', ' Hitler Plans His New Wars', 675),\n",
       " ('March', '5', '1940', ' WW2', 1108),\n",
       " ('9', 'March', '1940', ' Finnish Winter is Almost Over', 775),\n",
       " ('16', 'March', '1940', ' The Soviets Finish a Costly Winter War', 669),\n",
       " ('23', 'March', '1940', ' Il Duce and der Führer Have a Date', 660),\n",
       " ('30', 'March', '1940', ' Allies Plan to Hit the Nazis Where it Hurts', 680),\n",
       " ('6',\n",
       "  'April',\n",
       "  '1940',\n",
       "  ' Germans and British make their way to the North',\n",
       "  642),\n",
       " ('13', 'April', '1940', ' The Invasion of Norway and Denmark', 808),\n",
       " ('20', 'April', '1940', ' The Scramble For Norway', 668),\n",
       " ('27', 'April', '1940', ' Norway is Burning', 706),\n",
       " ('', 'April', '1940', ' WW2', 1260),\n",
       " ('4',\n",
       "  'May',\n",
       "  '1940',\n",
       "  ' Retreat in Norway, Preparations in Western Europe',\n",
       "  701),\n",
       " ('11', 'May', '1940', ' Hitler Strikes in the West', 789),\n",
       " ('18', 'May', '1940', ' Blitzkrieg in the West', 1221),\n",
       " ('25', 'May', '1940', ' The Allied Clusterf**k', 845),\n",
       " ('1', 'June', '1940', ' The First Brexit?', 729),\n",
       " ('8', 'June', '1940', ' Will Britain Remain?!', 776),\n",
       " ('', 'May', '1940', ' WW2', 1154),\n",
       " ('15', 'June', '1940', ' Britain Votes to Leave', 822),\n",
       " ('22', 'June', '1940', ' Nazi Europe?!', 858),\n",
       " ('29', 'June', '1940', ' Hitler ❤️Paris', 733),\n",
       " ('6', 'July', '1940', ' Do the Brits hate the French?!', 716),\n",
       " ('', 'June', '1940', ' WW2', 1180),\n",
       " ('13', 'July', '1940', ' The Dictator of France', 725),\n",
       " ('20', 'July', '1940', ' Good People on Both Sides?', 695),\n",
       " ('27', 'July', '1940', ' No Deal... Herr Hitler!', 723),\n",
       " ('3', 'August', '1940', ' The Hippo vs. the Bulldog', 631),\n",
       " ('10', 'August', '1940', \" Hail Mussolini, Haile Selassie's Usurper\", 730),\n",
       " ('17', 'August', '1940', ' Il Duce Kicks Churchill Where it Hurts', 707),\n",
       " ('24', 'August', '1940', ' The Battle of Britain is a Bitch', 756),\n",
       " ('31',\n",
       "  'August',\n",
       "  '1940',\n",
       "  ' 366 Days of Crushed Hopes, Suffering and Death',\n",
       "  762)]"
      ]
     },
     "execution_count": 40,
     "metadata": {},
     "output_type": "execute_result"
    }
   ],
   "source": [
    "data"
   ]
  },
  {
   "cell_type": "code",
   "execution_count": 33,
   "metadata": {},
   "outputs": [
    {
     "data": {
      "text/plain": [
       "'11:37'"
      ]
     },
     "execution_count": 33,
     "metadata": {},
     "output_type": "execute_result"
    }
   ],
   "source": [
    "duration = title.split('\\n')[1]\n",
    "minutes = int(duration.text.split(':')[-2])\n",
    "secondes = int(duration.text.split(':')[-1])\n",
    "secondes += 60 * minutes\n",
    "duration"
   ]
  },
  {
   "cell_type": "code",
   "execution_count": 30,
   "metadata": {},
   "outputs": [
    {
     "name": "stdout",
     "output_type": "stream",
     "text": [
      "1 September 1939\n"
     ]
    }
   ],
   "source": [
    "print(day, month, year)"
   ]
  },
  {
   "cell_type": "code",
   "execution_count": 31,
   "metadata": {},
   "outputs": [
    {
     "data": {
      "text/plain": [
       "'The Polish-German War'"
      ]
     },
     "execution_count": 31,
     "metadata": {},
     "output_type": "execute_result"
    }
   ],
   "source": [
    "title_name"
   ]
  },
  {
   "cell_type": "code",
   "execution_count": 13,
   "metadata": {},
   "outputs": [
    {
     "data": {
      "text/plain": [
       "['001 -The Polish-German War - WW2 - September 1, 1939 [IMPROVED]',\n",
       " '002 - World War Two Begins - WW2 - September 8, 1939 [IMPROVED]',\n",
       " '003 - Poland on Her Own - WW2 - September 15, 1939 [IMPROVED]',\n",
       " '004 - The Russians are Coming! - The Soviet Invasion of Poland - WW2 -September 22, 1939 [IMPROVED]',\n",
       " '005 - Poland is Crushed - WW2 - 29 September, 1939 [IMPROVED]',\n",
       " '006 - Poland Falls and China Rises - WW2 - October 6, 1939 [IMPROVED]',\n",
       " \"007 - The Baltic in Stalin's Squeeze - WW2 - 13 October, 1939 [IMPROVED]\",\n",
       " '008 - The Submarine War - WW2 - October 20, 1939 [IMPROVED]',\n",
       " \"009 - Stalin's Murderous Adventures - Occupation of Poland - WW2 - October 27, 1939 [IMPROVED]\",\n",
       " \"010 - Molotov's Heel on Finland and the Phoney War - WW2 - 3 November, 1939 [IMPROVED]\",\n",
       " '011 - Hitler Almost Killed - WW2 - 10 November, 1939 [IMPROVED]',\n",
       " '012 - The Mysterious Threat to the Royal Navy - Magnetic Mines - WW2 - 17 November, 1939 [IMPROVED]',\n",
       " '013 - Will the Kriegsmarine Rule the Waves? - WW2 - 24 November, 1939 [IMPROVED]',\n",
       " '014 - The Winter War - WW2 - December 1, 1939 [IMPROVED]',\n",
       " '015 - The Invasion of Finland - WW2 - 8 December 1939',\n",
       " '016 - Perkele! Finland Strikes Back - WW2 - 15 December 1939',\n",
       " '017 - Trouble in China - WW2 - 22 December 1939',\n",
       " '018 - Stalin’s Unexpected Bedfellows - Soviet Relations in East Asia - WW2 - 29 December 1939',\n",
       " '019 - The Finns Strike Again and Japan Strikes Back - WW2 - January 5 1940',\n",
       " '020 - The Red Army Regroups to Crush Finland - WW2 - January 12 1940',\n",
       " \"021 - Swedes not Sweden to Finland's Rescue - WW2 - January 19 1940\",\n",
       " \"022 - The Enigma of Germany's Wartime Economy - WW2 - January 26 1940\",\n",
       " '023 - The Soviet Hammer Strikes Hard at Finland - WW2 - February 2 1940',\n",
       " '024 - Stalemate in China, Bombs over Finland - WW2 - February 9 1940',\n",
       " '025 - Finland’s Desperate Fight - WW2 - February 16 1940',\n",
       " '026 - Manstein Makes a Plan and Hitler has a Man Crush - WW2 - February 23 1940',\n",
       " '027 - Hitler Plans His New Wars - Fall Gelb - WW2 - March 2 1940',\n",
       " 'Outbreak of the War Against Humanity - WW2 - WaH 001 - 5 March 1940',\n",
       " '028 - Finnish Winter is Almost Over - WW2 - March 9 1940',\n",
       " '029 - The Soviets Finish a Costly Winter War - WW2 - March 16 1940',\n",
       " '030 - Il Duce and der Führer Have a Date - The Axis War Plans - WW2 - March 23 1940',\n",
       " '031 - Allies Plan to Hit the Nazis Where it Hurts - WW2 - March 30 1940',\n",
       " '032 - Germans and British make their way to the North - WW2 - April 6 1940',\n",
       " '033 - The Invasion of Norway and Denmark - WW2 - April 13 1940',\n",
       " '034 - The Scramble For Norway - WW2 - April 20 1940',\n",
       " '035 - Norway is Burning - WW2 - April 27 1940',\n",
       " 'System of a Nazi Terror - WW2 - WaH 002 - April 1940',\n",
       " '036 - Retreat in Norway, Preparations in Western Europe - WW2 - May 4 1940',\n",
       " '037 - Hitler Strikes in the West - The Invasion of the Benelux - WW2 - May 11 1940',\n",
       " '038 - Blitzkrieg in the West - The Invasion of France - WW2 - May 18 1940',\n",
       " '039 - The Allied Clusterf**k - The Battle of France - WW2 - May 25 1940',\n",
       " '040 - The First Brexit? - The Dunkirk Evacuation - WW2 - June 1 1940',\n",
       " '041 - Will Britain Remain?! - WW2 - June 8 1940',\n",
       " 'The Strategy of Terror Bombing - WW2 - WaH 003 - May 1940',\n",
       " '042 - Britain Votes to Leave - WW2 - June 15 1940',\n",
       " '043 - Nazi Europe?! - The Fall of France - WW2 - June 22 1940',\n",
       " '044 - Hitler ❤️Paris - German Victory in France - WW2 - June 29 1940',\n",
       " '045 - Do the Brits hate the French?! - The Bombing of Mers-el-Kébir - WW2 - July 6 1940',\n",
       " 'The European Migration Crisis - WW2 - WaH 004 - June 1940',\n",
       " '046 - The Dictator of France - The Rise of Philippe Pétain - WW2 - 046 - July 13 1940',\n",
       " \"047 - Good People on Both Sides? - Hitler's Peace Offer to the Allies - WW2 - July 20 1940\",\n",
       " '048 - No Deal... Herr Hitler! - The Battle of Britain Begins - WW2 - July 27 1940',\n",
       " '049 - The Hippo vs. the Bulldog - The Battle of Britain Heats Up - WW2 - August 3 1940',\n",
       " \"050 - Hail Mussolini, Haile Selassie's Usurper - The War in Somaliland - WW2 - August 10 1940\",\n",
       " '051 - Il Duce Kicks Churchill Where it Hurts - The British Lose Somaliland - WW2 - August 17 1940',\n",
       " '052 - The Battle of Britain is a Bitch - WW2 - August 24 1940',\n",
       " 'World War Two']"
      ]
     },
     "execution_count": 13,
     "metadata": {},
     "output_type": "execute_result"
    }
   ],
   "source": [
    "titles"
   ]
  },
  {
   "cell_type": "code",
   "execution_count": 79,
   "metadata": {},
   "outputs": [],
   "source": [
    "reset_buton = '/html/body/ytd-app/div/div/ytd-masthead/div[3]/div[2]/ytd-searchbox/form/div[1]/div[2]/ytd-button-renderer/a/yt-icon-button/button/yt-icon'\n",
    "click_buton(xpath = reset_buton)"
   ]
  },
  {
   "cell_type": "code",
   "execution_count": 16,
   "metadata": {},
   "outputs": [],
   "source": [
    "try:\n",
    "    reset_buton = '/html/body/ytd-app/div/div/ytd-masthead/div[3]/div[2]/ytd-searchbox/form/div[1]/div[2]/ytd-button-renderer/a/yt-icon-button/button/yt-icon'\n",
    "    click_buton(xpath = reset_buton)\n",
    "except:\n",
    "    pass\n",
    "\n",
    "search_path = '/html/body/ytd-app/div/div/ytd-masthead/div[3]/div[2]/ytd-searchbox/form/div[1]/div[1]/input'\n",
    "fill_text(search_path, text = '-'.join(titles[1].split('-')[2:]))\n",
    "search_button= '/html/body/ytd-app/div/div/ytd-masthead/div[3]/div[2]/ytd-searchbox/button'\n",
    "click_buton(xpath = search_button)"
   ]
  },
  {
   "cell_type": "code",
   "execution_count": 12,
   "metadata": {},
   "outputs": [],
   "source": [
    "pathx = '/html/body/ytd-app/div/ytd-page-manager/ytd-search/div[1]/ytd-two-column-search-results-renderer/div/ytd-section-list-renderer/div[2]/ytd-item-section-renderer/div[3]/ytd-video-renderer[1]/div[1]/ytd-thumbnail/a/div[1]/ytd-thumbnail-overlay-time-status-renderer/span'\n",
    "time = driver.find_element_by_xpath(pathx)"
   ]
  },
  {
   "cell_type": "code",
   "execution_count": 13,
   "metadata": {},
   "outputs": [],
   "source": [
    "minutes = int(time.text.split(':')[-2])\n",
    "secondes = int(time.text.split(':')[-1])\n",
    "secondes += 60 * minutes"
   ]
  },
  {
   "cell_type": "code",
   "execution_count": 14,
   "metadata": {},
   "outputs": [
    {
     "data": {
      "text/plain": [
       "697"
      ]
     },
     "execution_count": 14,
     "metadata": {},
     "output_type": "execute_result"
    }
   ],
   "source": [
    "secondes"
   ]
  },
  {
   "cell_type": "code",
   "execution_count": 39,
   "metadata": {},
   "outputs": [
    {
     "ename": "KeyboardInterrupt",
     "evalue": "",
     "output_type": "error",
     "traceback": [
      "\u001b[1;31m---------------------------------------------------------------------------\u001b[0m",
      "\u001b[1;31mKeyboardInterrupt\u001b[0m                         Traceback (most recent call last)",
      "\u001b[1;32m<ipython-input-39-610a84d3f122>\u001b[0m in \u001b[0;36m<module>\u001b[1;34m\u001b[0m\n\u001b[0;32m     27\u001b[0m         \u001b[0msearch_button\u001b[0m\u001b[1;33m=\u001b[0m \u001b[1;34m'/html/body/ytd-app/div/div/ytd-masthead/div[3]/div[2]/ytd-searchbox/button'\u001b[0m\u001b[1;33m\u001b[0m\u001b[1;33m\u001b[0m\u001b[0m\n\u001b[0;32m     28\u001b[0m         \u001b[0mclick_buton\u001b[0m\u001b[1;33m(\u001b[0m\u001b[0mxpath\u001b[0m \u001b[1;33m=\u001b[0m \u001b[0msearch_button\u001b[0m\u001b[1;33m)\u001b[0m\u001b[1;33m\u001b[0m\u001b[1;33m\u001b[0m\u001b[0m\n\u001b[1;32m---> 29\u001b[1;33m         \u001b[0mtime\u001b[0m\u001b[1;33m.\u001b[0m\u001b[0msleep\u001b[0m\u001b[1;33m(\u001b[0m\u001b[1;36m2\u001b[0m\u001b[1;33m)\u001b[0m\u001b[1;33m\u001b[0m\u001b[1;33m\u001b[0m\u001b[0m\n\u001b[0m\u001b[0;32m     30\u001b[0m         \u001b[0mpathx\u001b[0m \u001b[1;33m=\u001b[0m \u001b[1;34m'/html/body/ytd-app/div/ytd-page-manager/ytd-search/div[1]/ytd-two-column-search-results-renderer/div/ytd-section-list-renderer/div[2]/ytd-item-section-renderer/div[3]/ytd-video-renderer[1]/div[1]/ytd-thumbnail/a/div[1]/ytd-thumbnail-overlay-time-status-renderer/span'\u001b[0m\u001b[1;33m\u001b[0m\u001b[1;33m\u001b[0m\u001b[0m\n\u001b[0;32m     31\u001b[0m         \u001b[0mduration\u001b[0m \u001b[1;33m=\u001b[0m \u001b[0mdriver\u001b[0m\u001b[1;33m.\u001b[0m\u001b[0mfind_element_by_xpath\u001b[0m\u001b[1;33m(\u001b[0m\u001b[0mpathx\u001b[0m\u001b[1;33m)\u001b[0m\u001b[1;33m\u001b[0m\u001b[1;33m\u001b[0m\u001b[0m\n",
      "\u001b[1;31mKeyboardInterrupt\u001b[0m: "
     ]
    }
   ],
   "source": [
    "data = []\n",
    "for playlist in playlists:\n",
    "    search_path = '/html/body/ytd-app/div/div/ytd-masthead/div[3]/div[2]/ytd-searchbox/form/div[1]/div[1]/input'\n",
    "    fill_text(search_path, text = playlist)\n",
    "    search_button= '/html/body/ytd-app/div/div/ytd-masthead/div[3]/div[2]/ytd-searchbox/button'\n",
    "    click_buton(xpath = search_button)\n",
    "    probable_but = '/html/body/ytd-app/div/ytd-page-manager/ytd-search/div[1]/ytd-two-column-search-results-renderer/div/ytd-section-list-renderer/div[2]/ytd-item-section-renderer/div[3]/ytd-playlist-renderer/div/yt-formatted-string[2]/a'\n",
    "    time.sleep(2)\n",
    "    click_buton(xpath = probable_but)\n",
    "    pathx = '/html/body/ytd-app/div/ytd-page-manager/ytd-browse[2]/ytd-two-column-browse-results-renderer/div[1]/ytd-section-list-renderer/div[2]/ytd-item-section-renderer'\n",
    "    time.sleep(2)\n",
    "    elem = driver.find_element_by_xpath(pathx)\n",
    "    titles = list(map(lambda x: x.split('\\n')[-1] ,elem.text.split('\\nWorld War Two\\n')))  \n",
    "    for title in titles:\n",
    "        month = title.split('-')[-1].split()[0]\n",
    "        day = title.split('-')[-1].split()[1].replace(',', '')\n",
    "        year = title.split('-')[-1].split()[2].replace(',', '')\n",
    "        title_name = title.split(' -')[1]\n",
    "        try:\n",
    "            reset_buton = '/html/body/ytd-app/div/div/ytd-masthead/div[3]/div[2]/ytd-searchbox/form/div[1]/div[2]/ytd-button-renderer/a/yt-icon-button/button/yt-icon'\n",
    "            click_buton(xpath = reset_buton)\n",
    "        except:\n",
    "            pass\n",
    "\n",
    "        search_path = '/html/body/ytd-app/div/div/ytd-masthead/div[3]/div[2]/ytd-searchbox/form/div[1]/div[1]/input'\n",
    "        fill_text(search_path, text = '-'.join(title.split('-')[2:]))\n",
    "        search_button= '/html/body/ytd-app/div/div/ytd-masthead/div[3]/div[2]/ytd-searchbox/button'\n",
    "        click_buton(xpath = search_button)\n",
    "        time.sleep(2)\n",
    "        pathx = '/html/body/ytd-app/div/ytd-page-manager/ytd-search/div[1]/ytd-two-column-search-results-renderer/div/ytd-section-list-renderer/div[2]/ytd-item-section-renderer/div[3]/ytd-video-renderer[1]/div[1]/ytd-thumbnail/a/div[1]/ytd-thumbnail-overlay-time-status-renderer/span'\n",
    "        duration = driver.find_element_by_xpath(pathx)\n",
    "        minutes = int(duration.text.split(':')[-2])\n",
    "        secondes = int(duration.text.split(':')[-1])\n",
    "        secondes += 60 * minutes\n",
    "        data += [(title_name, day, month, year, secondes)]\n",
    "  "
   ]
  },
  {
   "cell_type": "code",
   "execution_count": 41,
   "metadata": {},
   "outputs": [
    {
     "data": {
      "text/plain": [
       "'004 - The Russians are Coming! - The Soviet Invasion of Poland - WW2 -September 22, 1939 [IMPROVED]'"
      ]
     },
     "execution_count": 41,
     "metadata": {},
     "output_type": "execute_result"
    }
   ],
   "source": [
    "titles[3]"
   ]
  },
  {
   "cell_type": "code",
   "execution_count": 40,
   "metadata": {},
   "outputs": [
    {
     "data": {
      "text/plain": [
       "[('The Polish-German War', '1', 'September', '1939', 697),\n",
       " (' World War Two Begins', '8', 'September', '1939', 697),\n",
       " (' Poland on Her Own', '15', 'September', '1939', 687),\n",
       " (' The Russians are Coming!', '22', 'September', '1939', 217),\n",
       " (' Poland is Crushed', 'September', '29', '1939', 648),\n",
       " (' Poland Falls and China Rises', '6', 'October', '1939', 662),\n",
       " (\" The Baltic in Stalin's Squeeze\", 'October', '13', '1939', 627),\n",
       " (' The Submarine War', '20', 'October', '1939', 664),\n",
       " (\" Stalin's Murderous Adventures\", '27', 'October', '1939', 682),\n",
       " (\" Molotov's Heel on Finland and the Phoney War\",\n",
       "  'November',\n",
       "  '3',\n",
       "  '1939',\n",
       "  610),\n",
       " (' Hitler Almost Killed', 'November', '10', '1939', 625),\n",
       " (' The Mysterious Threat to the Royal Navy', 'November', '17', '1939', 636),\n",
       " (' Will the Kriegsmarine Rule the Waves?', 'November', '24', '1939', 591),\n",
       " (' The Winter War', '1', 'December', '1939', 628),\n",
       " (' The Invasion of Finland', 'December', '8', '1939', 678),\n",
       " (' Perkele! Finland Strikes Back', 'December', '15', '1939', 679),\n",
       " (' Trouble in China', 'December', '22', '1939', 689),\n",
       " (' Stalin’s Unexpected Bedfellows', 'December', '29', '1939', 742),\n",
       " (' The Finns Strike Again and Japan Strikes Back',\n",
       "  '5',\n",
       "  'January',\n",
       "  '1940',\n",
       "  647),\n",
       " (' The Red Army Regroups to Crush Finland', '12', 'January', '1940', 662),\n",
       " (\" Swedes not Sweden to Finland's Rescue\", '19', 'January', '1940', 745),\n",
       " (\" The Enigma of Germany's Wartime Economy\", '26', 'January', '1940', 723),\n",
       " (' The Soviet Hammer Strikes Hard at Finland', '2', 'February', '1940', 676),\n",
       " (' Stalemate in China, Bombs over Finland', '9', 'February', '1940', 3542),\n",
       " (' Finland’s Desperate Fight', '16', 'February', '1940', 684),\n",
       " (' Manstein Makes a Plan and Hitler has a Man Crush',\n",
       "  '23',\n",
       "  'February',\n",
       "  '1940',\n",
       "  591),\n",
       " (' Hitler Plans His New Wars', '2', 'March', '1940', 675),\n",
       " (' WW2', 'March', '5', '1940', 1108)]"
      ]
     },
     "execution_count": 40,
     "metadata": {},
     "output_type": "execute_result"
    }
   ],
   "source": [
    "data"
   ]
  },
  {
   "cell_type": "code",
   "execution_count": 37,
   "metadata": {},
   "outputs": [
    {
     "data": {
      "text/plain": [
       "'The Polish-German War'"
      ]
     },
     "execution_count": 37,
     "metadata": {},
     "output_type": "execute_result"
    }
   ],
   "source": [
    "titles[0].split(' -')[1]"
   ]
  },
  {
   "cell_type": "code",
   "execution_count": 35,
   "metadata": {},
   "outputs": [
    {
     "data": {
      "text/plain": [
       "'001 -The Polish-German War - WW2 - September 1, 1939 [IMPROVED]'"
      ]
     },
     "execution_count": 35,
     "metadata": {},
     "output_type": "execute_result"
    }
   ],
   "source": [
    "titles[0]"
   ]
  },
  {
   "cell_type": "code",
   "execution_count": null,
   "metadata": {},
   "outputs": [],
   "source": []
  }
 ],
 "metadata": {
  "kernelspec": {
   "display_name": "Python 3",
   "language": "python",
   "name": "python3"
  },
  "language_info": {
   "codemirror_mode": {
    "name": "ipython",
    "version": 3
   },
   "file_extension": ".py",
   "mimetype": "text/x-python",
   "name": "python",
   "nbconvert_exporter": "python",
   "pygments_lexer": "ipython3",
   "version": "3.7.3"
  }
 },
 "nbformat": 4,
 "nbformat_minor": 4
}
